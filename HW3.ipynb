{
 "cells": [
  {
   "cell_type": "markdown",
   "metadata": {},
   "source": [
    "##### **Homework 3**\n",
    "### Problem 1\n",
    "\n",
    "|           | True Bird | True Person |\n",
    "|-----------|-----------|-------------|\n",
    "| NN Bird   |        45 |           5 |\n",
    "| NN Person |         3 |          47 |\n",
    "\n",
    "|           | True Bird | True Person |\n",
    "|-----------|-----------|-------------|\n",
    "| NA Bird   |        47 |          11 |\n",
    "| NA Person |         1 |          42 |\n",
    "\n",
    "\n",
    "##### **a)** Which algorithm makes the fewest mistakes?\n",
    "\n",
    "NN made 8 mistakes, while NA made 12 mistakes. So algorithm NN makes less mistakes.\n",
    "\n",
    "##### **b)** Which algorithm is better for the zoo?\n",
    "\n",
    "NA is a better algorithm for the zoo, this is because it wrongly classifies a bird as a person less often than NN does. Because we do not want birds to be let out of the aviary we would trade more misclassifications of true people as birds for less misclassifications of true birds as people.\n",
    "\n",
    "##### **c)** Instead of 52% of the photos taken at the aviary door being people, it is now only 1%. Make new truth tables for both algorithms.\n",
    "\n",
    "In order to better show the operations of the two algorithms the truth tables will assume 1000 pictures rather than 100.\n",
    "\n",
    "|           | True Bird | True Person |\n",
    "|-----------|-----------|-------------|\n",
    "| NN Bird   |       928 |           1 |\n",
    "| NN Person |        62 |           9 |\n",
    "\n",
    "|           | True Bird | True Person |\n",
    "|-----------|-----------|-------------|\n",
    "| NA Bird   |       969 |           2 |\n",
    "| NA Person |        21 |           8 |\n",
    "\n",
    "These truth tables make the answer to question b much more obvious. When most of the pictures were of birds, algorithm NA makes much less mistakes than NN."
   ]
  },
  {
   "cell_type": "markdown",
   "metadata": {},
   "source": [
    "### Problem 2\n",
    "\n",
    "##### **a)** What is the pdf of the sum of two identical exponential distributions?\n",
    "\n",
    "$$e(x) = \\lambda e^{-\\lambda x}$$\n",
    "$$e(x)*e(x) = \\int_{0}^{x}e(x-z)e(z)dz = \\int_{0}^{x} e^{-\\lambda(x-z)}e^{-\\lambda z}dz = \\int_{0}^{x}\\frac{e^{-\\lambda x}}{e^{-\\lambda z}}e^{-\\lambda z}dz$$\n",
    "\n",
    "\n",
    "$$(e*e)(x) = ze^{-\\lambda x}\\bigg|_{z = 0}^{z = x} = xe^{-\\lambda x}$$\n",
    "\n",
    "$xe^{-\\lambda x}$ is basically just an unnormalized gamma distribution with $\\alpha = 2$"
   ]
  },
  {
   "cell_type": "code",
   "execution_count": 16,
   "metadata": {},
   "outputs": [],
   "source": [
    "import scipy\n",
    "from scipy import stats, signal\n",
    "import numpy as np\n",
    "import matplotlib\n",
    "import matplotlib.pyplot as plt\n",
    "plt.rcParams[\"figure.figsize\"] = (15,10)"
   ]
  },
  {
   "cell_type": "code",
   "execution_count": 23,
   "metadata": {},
   "outputs": [
    {
     "data": {
      "image/png": "[encoded data removed]",
      "text/plain": [
       "<Figure size 1080x720 with 1 Axes>"
      ]
     },
     "metadata": {
      "needs_background": "light"
     },
     "output_type": "display_data"
    }
   ],
   "source": [
    "x = np.linspace(0,100,1001)\n",
    "xc = np.linspace(0,200,2001)\n",
    "e1 = stats.expon.pdf(x)\n",
    "e2 = stats.expon.pdf(x)\n",
    "ec = signal.fftconvolve(e1,e2)\n",
    "fig, ax = plt.subplots(1)\n",
    "ax.plot(x,e1)\n",
    "ax.plot(xc, ec)\n",
    "ax.set_xlim([-0.25,40])\n",
    "plt.show()"
   ]
  },
  {
   "cell_type": "markdown",
   "metadata": {},
   "source": [
    "##### **b)** What is the pdf of the ratio of two zero-mean unity variance normal distributions $\\frac{X_1}{X_2}$?\n",
    "\n",
    "\n",
    "$Z = \\frac{X_1}{X_2}$\n",
    "\n",
    "$P_{X_1}(x)$ and $P_{X_2}(y)$ being the two \"zero-mean unity variance normal distributions\"\n",
    "\n",
    "$$ P_Z(z) = \\int_{-\\infty}^{\\infty}|y|P_{X_1}(zy)P_{X_2}(y)dy  = \\int_{-\\infty}^{\\infty}|y|\\frac{1}{\\sqrt{2\\pi}} e^{-\\frac{(zy)^2}{2}}\\frac{1}{\\sqrt{2\\pi}} e^{-\\frac{y^2}{2}}dy$$\n",
    "\n",
    "\n",
    "$$P_Z(z) = \\frac{1}{2\\pi}\\int_{-\\infty}^{\\infty} |y|e^{-\\frac{(zy)^2}{2}}e^{-\\frac{y^2}{2}}dy = \\frac{1}{2\\pi}\\int_{-\\infty}^{\\infty} |y| e^{\\frac{-y^2\\left(z^2 + 1\\right)}{2}}dy$$\n",
    "\n",
    "\n",
    "$$\\int_{0}^{\\infty}ye^{-ay^2}dy = \\frac{1}{2a}$$\n",
    "\n",
    "since $|y|e^{\\frac{-y^2\\left(z^2 + 1\\right)}{2}}$ is symmetric over the entire interval the integral comes out to $\\frac{1}{a}$ where $a = \\frac{z^2+1}{2}$\n",
    "\n",
    "$$P_Z(z)=\\frac{1}{2\\pi}\\frac{1}{\\frac{z^2+1}{2}} = \\frac{1}{\\pi\\left(z^2 + 1\\right)}$$\n",
    "\n",
    "This distribution is called the Cauchy distribution."
   ]
  }
 ],
 "metadata": {
  "kernelspec": {
   "display_name": "Python 3",
   "language": "python",
   "name": "python3"
  },
  "language_info": {
   "codemirror_mode": {
    "name": "ipython",
    "version": 3
   },
   "file_extension": ".py",
   "mimetype": "text/x-python",
   "name": "python",
   "nbconvert_exporter": "python",
   "pygments_lexer": "ipython3",
   "version": "3.7.4"
  }
 },
 "nbformat": 4,
 "nbformat_minor": 4
}
