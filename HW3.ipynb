{
 "cells": [
  {
   "cell_type": "markdown",
   "metadata": {},
   "source": [
    "##### **Homework 3**\n",
    "### Problem 1\n",
    "\n",
    "|           | True Bird | True Person |\n",
    "|-----------|-----------|-------------|\n",
    "| NN Bird   |        45 |           5 |\n",
    "| NN Person |         3 |          47 |\n",
    "\n",
    "|           | True Bird | True Person |\n",
    "|-----------|-----------|-------------|\n",
    "| NA Bird   |        47 |          11 |\n",
    "| NA Person |         1 |          42 |\n",
    "\n",
    "\n",
    "##### **a)** Which algorithm makes the fewest mistakes?\n",
    "\n",
    "NN made 8 mistakes, while NA made 12 mistakes. So algorithm NN makes less mistakes.\n",
    "\n",
    "##### **b)** Which algorithm is better for the zoo?\n",
    "\n",
    "NA is a better algorithm for the zoo, this is because it wrongly classifies a bird as a person less often than NN does. Because we do not want birds to be let out of the aviary we would trade more misclassifications of true people as birds for less misclassifications of true birds as people.\n",
    "\n",
    "##### **c)** Instead of 52% of the photos taken at the aviary door being people, it is now only 1%. Make new truth tables for both algorithms.\n",
    "\n",
    "In order to better show the operations of the two algorithms the truth tables will assume 1000 pictures rather than 100.\n",
    "\n",
    "|           | True Bird | True Person |\n",
    "|-----------|-----------|-------------|\n",
    "| NN Bird   |       928 |           1 |\n",
    "| NN Person |        62 |           9 |\n",
    "\n",
    "|           | True Bird | True Person |\n",
    "|-----------|-----------|-------------|\n",
    "| NA Bird   |       969 |           2 |\n",
    "| NA Person |        21 |           8 |"
   ]
  }
 ],
 "metadata": {
  "kernelspec": {
   "display_name": "Python 3",
   "language": "python",
   "name": "python3"
  },
  "language_info": {
   "codemirror_mode": {
    "name": "ipython",
    "version": 3
   },
   "file_extension": ".py",
   "mimetype": "text/x-python",
   "name": "python",
   "nbconvert_exporter": "python",
   "pygments_lexer": "ipython3",
   "version": "3.7.4"
  }
 },
 "nbformat": 4,
 "nbformat_minor": 4
}
