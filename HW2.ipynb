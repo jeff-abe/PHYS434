{
 "cells": [
  {
   "cell_type": "code",
   "execution_count": 1,
   "metadata": {},
   "outputs": [],
   "source": [
    "import numpy as np\n",
    "import scipy\n",
    "from scipy import stats, signal\n",
    "import matplotlib.pyplot as plt\n",
    "import matplotlib\n",
    "\n",
    "plt.rcParams[\"figure.figsize\"] = (15,10)"
   ]
  },
  {
   "cell_type": "markdown",
   "metadata": {},
   "source": [
    "#### Problem 1\n",
    "Which is more probable when rolling 2 six-sided dice: rolling snake eyes or rolling sevens?\n",
    "\n",
    "Rolling sevens is more probable because there are six ways to roll a seven and only one way to roll snake eyes. Rolling a seven is six times more likely than rolling a one."
   ]
  },
  {
   "cell_type": "markdown",
   "metadata": {},
   "source": [
    "#### Problem 2\n",
    "Show how to use the convolution operator to determine the probability of the sum of 2 six sided dice.\n",
    "\n",
    "$$P_{A+B}(x) = \\sum_z P_A(z)P_B(x-z)$$"
   ]
  },
  {
   "cell_type": "code",
   "execution_count": 2,
   "metadata": {},
   "outputs": [
    {
     "data": {
      "image/png": "[encoded data removed]",
      "text/plain": [
       "<Figure size 1080x720 with 1 Axes>"
      ]
     },
     "metadata": {
      "needs_background": "light"
     },
     "output_type": "display_data"
    }
   ],
   "source": [
    "p = scipy.signal.convolve([1/6, 1/6, 1/6, 1/6, 1/6, 1/6],[1/6, 1/6, 1/6, 1/6, 1/6, 1/6])\n",
    "x = range(2,13)\n",
    "plt.bar(x,p)\n",
    "plt.title('Probablility of Rolling Each Value With 2 6-sided Die')\n",
    "plt.show()"
   ]
  },
  {
   "cell_type": "markdown",
   "metadata": {},
   "source": [
    "#### Problem 3\n",
    "Calculate the mean and the variance of the distribution in problem 2.\n",
    "$$<x> = \\sum_x xP(x)$$\n",
    "$$ <x^2> = \\sum_x x^2P(x)$$\n",
    "$$\\sigma^2 = <x^2>-<x>^2$$"
   ]
  },
  {
   "cell_type": "code",
   "execution_count": 3,
   "metadata": {},
   "outputs": [
    {
     "name": "stdout",
     "output_type": "stream",
     "text": [
      "Mean: 7.0 Variance: 5.833\n"
     ]
    }
   ],
   "source": [
    "ex = sum(p*x)\n",
    "ex2 = sum(p*np.square(x))\n",
    "var = ex2 - np.square(ex)\n",
    "print('Mean:',ex, 'Variance:',np.round(var,3))"
   ]
  },
  {
   "cell_type": "markdown",
   "metadata": {},
   "source": [
    "#### Problem 4"
   ]
  },
  {
   "cell_type": "code",
   "execution_count": 24,
   "metadata": {},
   "outputs": [
    {
     "data": {
      "image/png": "[encoded data removed]",
      "text/plain": [
       "<Figure size 1080x720 with 2 Axes>"
      ]
     },
     "metadata": {
      "needs_background": "light"
     },
     "output_type": "display_data"
    },
    {
     "name": "stdout",
     "output_type": "stream",
     "text": [
      "NormaltestResult(statistic=9.359817390079042, pvalue=0.009279861145739853) For the Sample\n",
      "NormaltestResult(statistic=0.6116915797179173, pvalue=0.736500186496917) For a normal distribution\n"
     ]
    }
   ],
   "source": [
    "np.random.seed(1122)\n",
    "x = np.arange(1, 6.1, 0.1).tolist()\n",
    "p1 = [1/6, 1/6, 1/6, 1/6, 1/6, 1/6]\n",
    "p = p1\n",
    "for i in range(1,10):\n",
    "    p = scipy.signal.convolve(p,p1)\n",
    "fig, (ax1,ax2) = plt.subplots(1,2)\n",
    "ax1.bar(x,p)\n",
    "ax2.bar(x,p)\n",
    "ax2.set_yscale('log')\n",
    "plt.show()\n",
    "#Creates a sample from the distribution plotted below\n",
    "sample = stats.rv_discrete(values = (x, p)).rvs(size = 50000)\n",
    "normal = stats.norm.rvs(size = 50000)\n",
    "#Test of the sample for normal distribution\n",
    "print(stats.normaltest(sample), 'For the Sample')\n",
    "print(stats.normaltest(normal), 'For a normal distribution')"
   ]
  },
  {
   "cell_type": "markdown",
   "metadata": {},
   "source": [
    "The normal test is used to test the null hypothesis that the distribution comes from a normal distribution. In this case we assume that the sample comes from a normal distribution, and test the probability of that being true. Say we set the barrier for the p-value at $5\\%$. If the p-value is less than this value, we can reject the null hypothesis, and in the case of our distribution this is true. This means that we can say that the sample did not come from a normal distribution. With the sample derived from a normal distribution, the p-value returned was $51.1\\%$, this being greater than the threshold does not, however, mean that we can accept the null hypothesis, but rather that we cannot reject it."
   ]
  },
  {
   "cell_type": "markdown",
   "metadata": {},
   "source": [
    "#### Problem 5\n",
    "Show that the sum and average of an initially Gaussian distribution is also a Guassian. How does the standard deviation of the resulting sum or average Guassian change?"
   ]
  },
  {
   "cell_type": "code",
   "execution_count": 27,
   "metadata": {},
   "outputs": [
    {
     "data": {
      "text/plain": [
       "\u001b[0;31mSignature:\u001b[0m \u001b[0mscipy\u001b[0m\u001b[0;34m.\u001b[0m\u001b[0msignal\u001b[0m\u001b[0;34m.\u001b[0m\u001b[0mconvolve\u001b[0m\u001b[0;34m(\u001b[0m\u001b[0min1\u001b[0m\u001b[0;34m,\u001b[0m \u001b[0min2\u001b[0m\u001b[0;34m,\u001b[0m \u001b[0mmode\u001b[0m\u001b[0;34m=\u001b[0m\u001b[0;34m'full'\u001b[0m\u001b[0;34m,\u001b[0m \u001b[0mmethod\u001b[0m\u001b[0;34m=\u001b[0m\u001b[0;34m'auto'\u001b[0m\u001b[0;34m)\u001b[0m\u001b[0;34m\u001b[0m\u001b[0;34m\u001b[0m\u001b[0m\n",
       "\u001b[0;31mDocstring:\u001b[0m\n",
       "Convolve two N-dimensional arrays.\n",
       "\n",
       "Convolve `in1` and `in2`, with the output size determined by the\n",
       "`mode` argument.\n",
       "\n",
       "Parameters\n",
       "----------\n",
       "in1 : array_like\n",
       "    First input.\n",
       "in2 : array_like\n",
       "    Second input. Should have the same number of dimensions as `in1`.\n",
       "mode : str {'full', 'valid', 'same'}, optional\n",
       "    A string indicating the size of the output:\n",
       "\n",
       "    ``full``\n",
       "       The output is the full discrete linear convolution\n",
       "       of the inputs. (Default)\n",
       "    ``valid``\n",
       "       The output consists only of those elements that do not\n",
       "       rely on the zero-padding. In 'valid' mode, either `in1` or `in2`\n",
       "       must be at least as large as the other in every dimension.\n",
       "    ``same``\n",
       "       The output is the same size as `in1`, centered\n",
       "       with respect to the 'full' output.\n",
       "method : str {'auto', 'direct', 'fft'}, optional\n",
       "    A string indicating which method to use to calculate the convolution.\n",
       "\n",
       "    ``direct``\n",
       "       The convolution is determined directly from sums, the definition of\n",
       "       convolution.\n",
       "    ``fft``\n",
       "       The Fourier Transform is used to perform the convolution by calling\n",
       "       `fftconvolve`.\n",
       "    ``auto``\n",
       "       Automatically chooses direct or Fourier method based on an estimate\n",
       "       of which is faster (default).  See Notes for more detail.\n",
       "\n",
       "       .. versionadded:: 0.19.0\n",
       "\n",
       "Returns\n",
       "-------\n",
       "convolve : array\n",
       "    An N-dimensional array containing a subset of the discrete linear\n",
       "    convolution of `in1` with `in2`.\n",
       "\n",
       "See Also\n",
       "--------\n",
       "numpy.polymul : performs polynomial multiplication (same operation, but\n",
       "                also accepts poly1d objects)\n",
       "choose_conv_method : chooses the fastest appropriate convolution method\n",
       "fftconvolve : Always uses the FFT method.\n",
       "oaconvolve : Uses the overlap-add method to do convolution, which is\n",
       "             generally faster when the input arrays are large and\n",
       "             significantly different in size.\n",
       "\n",
       "Notes\n",
       "-----\n",
       "By default, `convolve` and `correlate` use ``method='auto'``, which calls\n",
       "`choose_conv_method` to choose the fastest method using pre-computed\n",
       "values (`choose_conv_method` can also measure real-world timing with a\n",
       "keyword argument). Because `fftconvolve` relies on floating point numbers,\n",
       "there are certain constraints that may force `method=direct` (more detail\n",
       "in `choose_conv_method` docstring).\n",
       "\n",
       "Examples\n",
       "--------\n",
       "Smooth a square pulse using a Hann window:\n",
       "\n",
       ">>> from scipy import signal\n",
       ">>> sig = np.repeat([0., 1., 0.], 100)\n",
       ">>> win = signal.hann(50)\n",
       ">>> filtered = signal.convolve(sig, win, mode='same') / sum(win)\n",
       "\n",
       ">>> import matplotlib.pyplot as plt\n",
       ">>> fig, (ax_orig, ax_win, ax_filt) = plt.subplots(3, 1, sharex=True)\n",
       ">>> ax_orig.plot(sig)\n",
       ">>> ax_orig.set_title('Original pulse')\n",
       ">>> ax_orig.margins(0, 0.1)\n",
       ">>> ax_win.plot(win)\n",
       ">>> ax_win.set_title('Filter impulse response')\n",
       ">>> ax_win.margins(0, 0.1)\n",
       ">>> ax_filt.plot(filtered)\n",
       ">>> ax_filt.set_title('Filtered signal')\n",
       ">>> ax_filt.margins(0, 0.1)\n",
       ">>> fig.tight_layout()\n",
       ">>> fig.show()\n",
       "\u001b[0;31mFile:\u001b[0m      /opt/conda/lib/python3.7/site-packages/scipy/signal/signaltools.py\n",
       "\u001b[0;31mType:\u001b[0m      function\n"
      ]
     },
     "metadata": {},
     "output_type": "display_data"
    }
   ],
   "source": [
    "scipy.signal.convolve?"
   ]
  }
 ],
 "metadata": {
  "kernelspec": {
   "display_name": "Python 3",
   "language": "python",
   "name": "python3"
  },
  "language_info": {
   "codemirror_mode": {
    "name": "ipython",
    "version": 3
   },
   "file_extension": ".py",
   "mimetype": "text/x-python",
   "name": "python",
   "nbconvert_exporter": "python",
   "pygments_lexer": "ipython3",
   "version": "3.7.4"
  }
 },
 "nbformat": 4,
 "nbformat_minor": 4
}
