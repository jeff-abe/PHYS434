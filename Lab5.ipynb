{
 "cells": [
  {
   "cell_type": "code",
   "execution_count": 1,
   "metadata": {},
   "outputs": [],
   "source": [
    "%matplotlib inline\n",
    "import numpy as np\n",
    "import matplotlib\n",
    "import matplotlib.pyplot as plt\n",
    "import scipy\n",
    "from scipy import stats\n",
    "import pickle"
   ]
  },
  {
   "cell_type": "code",
   "execution_count": 12,
   "metadata": {},
   "outputs": [],
   "source": [
    "data = open('higgs_100000_pt_250_500.pkl','rb')\n",
    "new_dict = pickle.load(data)"
   ]
  },
  {
   "cell_type": "code",
   "execution_count": 19,
   "metadata": {},
   "outputs": [
    {
     "name": "stdout",
     "output_type": "stream",
     "text": [
      "125.15036485403486 1.2980200835589373\n",
      "130.55267214662751 1.445626317832899\n",
      "125.70306309880351 0.986596849742669\n",
      "126.21585336608149 1.2184665392866647\n",
      "132.18250371689544 1.2917844364435773\n",
      "125.67653506886116 0.4343656746345235\n",
      "127.65400794990293 0.9312049446719695\n",
      "124.16656852260293 0.9493560863407668\n",
      "122.13035265114684 3.0022665455324082\n",
      "125.19144633816678 0.5539996032675585\n"
     ]
    }
   ],
   "source": [
    "for i in range(0,10):\n",
    "    print(new_dict['mass'][i],new_dict['d2'][i])"
   ]
  }
 ],
 "metadata": {
  "kernelspec": {
   "display_name": "Python 3",
   "language": "python",
   "name": "python3"
  },
  "language_info": {
   "codemirror_mode": {
    "name": "ipython",
    "version": 3
   },
   "file_extension": ".py",
   "mimetype": "text/x-python",
   "name": "python",
   "nbconvert_exporter": "python",
   "pygments_lexer": "ipython3",
   "version": "3.7.4"
  }
 },
 "nbformat": 4,
 "nbformat_minor": 4
}
