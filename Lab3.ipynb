{
 "cells": [
  {
   "cell_type": "markdown",
   "metadata": {},
   "source": [
    "## **Lab 3**\n",
    "### Asking a Statistical Question\n",
    "\n",
    "#### **Problem 1**\n",
    "We are performing an experiment where the temperature is critical to its reliability. For this particular experiment, the target temperature is 12 Kelvin. The thermal control system when working correctly gives temperatures distributed around 12 K with a standard deviation of 0.4 K. We would like to throw out pieces of data where the themal control system is not working correctly, and to be extra cautious also throw out pieces of data that may read differently than their true temperature."
   ]
  },
  {
   "cell_type": "code",
   "execution_count": 1,
   "metadata": {},
   "outputs": [],
   "source": [
    "%matplotlib inline\n",
    "import numpy as np\n",
    "import matplotlib\n",
    "import matplotlib.pyplot as plt\n",
    "import scipy\n",
    "from scipy import stats\n",
    "\n",
    "plt.rcParams[\"figure.figsize\"] = (20,15)"
   ]
  },
  {
   "cell_type": "markdown",
   "metadata": {},
   "source": [
    "##### **A)**\n",
    "1. Start by exploring the data you have created with appropriate plots"
   ]
  },
  {
   "cell_type": "code",
   "execution_count": 32,
   "metadata": {},
   "outputs": [
    {
     "name": "stdout",
     "output_type": "stream",
     "text": [
      "[12.18764492 11.88685466 11.3963766  ... 11.15517413 11.55667043\n",
      " 11.94131687]\n"
     ]
    },
    {
     "data": {
      "image/png": "[encoded data removed]",
      "text/plain": [
       "<Figure size 1440x1080 with 2 Axes>"
      ]
     },
     "metadata": {
      "needs_background": "light"
     },
     "output_type": "display_data"
    }
   ],
   "source": [
    "fig,(ax1,ax2) = plt.subplots(1,2)\n",
    "#Setting the seed\n",
    "np.random.seed(123456)\n",
    "#Generating Data\n",
    "d = stats.norm.rvs(loc = 12., scale = 0.4, size = 100000)\n",
    "ax1.hist(d, np.arange(10,14,0.2))\n",
    "#Adding Bad Data\n",
    "bad = [10., 10.3, 2.1, 0., 0., 15.6, 22.3, 12.7]\n",
    "d = np.append(d,bad)\n",
    "ax2.hist(d, np.arange(0,22.3,0.2))\n",
    "ax2.hist(bad, np.arange(0,22.3,0.2))\n",
    "ax1.set_yscale('log')\n",
    "ax2.set_yscale('log')\n",
    "ax1.title.set_text('Normal Data')\n",
    "ax2.title.set_text('Normal Data with Bad Data Highlighted')\n",
    "plt.show()"
   ]
  },
  {
   "cell_type": "markdown",
   "metadata": {},
   "source": [
    "2. State the statistical question in words. Be very clear, and describe why you have chosen this statistical question\n",
    "\n",
    "For each temperature measurement T, what is the probability that a measurement that far or further from the mean would arrise from the distribution of temperature values assuming a gaussian distribution centered at 12 Kelvin with a standard deviation of 0.4 Kelvin? How does this differentiator perform with a statistical threshold of 3 $\\sigma$\n",
    "\n",
    "3. Restate your question in math. Be very clear\n",
    "$\\DeclareMathOperator\\erf{erf}$\n",
    "$\\DeclareMathOperator\\icdf{icdf}$\n",
    "$$P(T) = 2 * \\int_{|T-12|}^{\\infty}\\frac{1}{0.4}e^{-\\frac{1}{2}\\left(\\frac{x}{0.4}\\right)^2}$$\n",
    "In order to represent that value in $\\sigma$ the probability value must be plugged into the inverse cdf to find where that would occur on the standard normal.\n",
    "$$\\icdf(p) = \\sqrt{2}\\erf^{-1}(2p-1)$$\n",
    "\n",
    "4. Apply your statistical test and construct a truth table"
   ]
  },
  {
   "cell_type": "code",
   "execution_count": 59,
   "metadata": {},
   "outputs": [
    {
     "name": "stdout",
     "output_type": "stream",
     "text": [
      "True T predicted True: 99890 \n",
      "True T predicted Bad: 110 \n",
      "Sum: 100000\n",
      "\n",
      "Bad T predicted True 1 \n",
      "Bad T predicted Bad 7 \n",
      "Sum 8\n"
     ]
    }
   ],
   "source": [
    "#Maintaining the Same Seed\n",
    "np.random.seed(123456)\n",
    "\n",
    "d = stats.norm.rvs(loc = 12., scale = 0.4, size = 100000)\n",
    "bad = np.array([10., 10.3, 2.1, 0., 0., 15.6, 22.3, 12.7])\n",
    "\n",
    "#Initializing Counts for Truth Table\n",
    "trueT_good = 0\n",
    "trueT_bad = 0\n",
    "badT_good = 0\n",
    "badT_bad = 0\n",
    "\n",
    "cutoff = 3\n",
    "# modifying for absolute delta from mean\n",
    "d = abs(d-12)\n",
    "bad = abs(bad-12)\n",
    "P1 = 2*stats.norm.cdf(-d,scale = 0.4)\n",
    "P1 = 1-P1\n",
    "sigma1 = stats.norm.ppf(P1,loc=0,scale=1)\n",
    "for i in sigma1:\n",
    "    if i >= cutoff:\n",
    "        trueT_bad += 1\n",
    "    else:\n",
    "        trueT_good += 1\n",
    "print('True T predicted True:', trueT_good, '\\nTrue T predicted Bad:', trueT_bad, '\\nSum:', trueT_good+trueT_bad)\n",
    "P2 = 2*stats.norm.cdf(-bad,scale = 0.4)\n",
    "P2 = 1-P2\n",
    "sigma2 = stats.norm.ppf(P2,loc=0,scale=1)\n",
    "for i in sigma2:\n",
    "    if i >= cutoff:\n",
    "        badT_bad += 1\n",
    "    else:\n",
    "        badT_good += 1\n",
    "print()\n",
    "print('Bad T predicted True', badT_good,'\\nBad T predicted Bad', badT_bad,'\\nSum', badT_good+badT_bad)"
   ]
  },
  {
   "cell_type": "markdown",
   "metadata": {},
   "source": [
    "Truth Table with Threshold at $3\\sigma$:\n",
    "\n",
    "|                 | True T | Bad T |\n",
    "|-----------------|--------|-------|\n",
    "| Predicted True: | 99,890 |     1 |\n",
    "| Predicted Bad:  |    110 |     7 |"
   ]
  },
  {
   "cell_type": "markdown",
   "metadata": {},
   "source": [
    "##### **B)** How does the number of omissions, where you threw out good data, depend on the statistical threshold you chose and is it a predictable quantity?"
   ]
  },
  {
   "cell_type": "code",
   "execution_count": 67,
   "metadata": {},
   "outputs": [
    {
     "name": "stdout",
     "output_type": "stream",
     "text": [
      "cutoff is 2 sigma\n",
      "True T predicted True: 97711 \n",
      "True T predicted Bad: 2289 \n",
      "Sum: 100000\n",
      "\n",
      "Bad T predicted True 1 \n",
      "Bad T predicted Bad 7 \n",
      "Sum 8\n",
      "\n",
      "cutoff is 2.5 sigma\n",
      "True T predicted True: 99370 \n",
      "True T predicted Bad: 630 \n",
      "Sum: 100000\n",
      "\n",
      "Bad T predicted True 1 \n",
      "Bad T predicted Bad 7 \n",
      "Sum 8\n",
      "\n",
      "cutoff is 3.5 sigma\n",
      "True T predicted True: 99980 \n",
      "True T predicted Bad: 20 \n",
      "Sum: 100000\n",
      "\n",
      "Bad T predicted True 1 \n",
      "Bad T predicted Bad 7 \n",
      "Sum 8\n",
      "\n",
      "cutoff is 4 sigma\n",
      "True T predicted True: 100000 \n",
      "True T predicted Bad: 0 \n",
      "Sum: 100000\n",
      "\n",
      "Bad T predicted True 1 \n",
      "Bad T predicted Bad 7 \n",
      "Sum 8\n"
     ]
    }
   ],
   "source": [
    "#Maintaining the Same Seed\n",
    "np.random.seed(123456)\n",
    "\n",
    "d = stats.norm.rvs(loc = 12., scale = 0.4, size = 100000)\n",
    "bad = np.array([10., 10.3, 2.1, 0., 0., 15.6, 22.3, 12.7])\n",
    "\n",
    "#Initializing Counts for Truth Table\n",
    "trueT_good = 0\n",
    "trueT_bad = 0\n",
    "badT_good = 0\n",
    "badT_bad = 0\n",
    "\n",
    "cutoff = 2\n",
    "# modifying for absolute delta from mean\n",
    "d = abs(d-12)\n",
    "bad = abs(bad-12)\n",
    "P1 = 2*stats.norm.cdf(-d,scale = 0.4)\n",
    "P1 = 1-P1\n",
    "sigma1 = stats.norm.ppf(P1,loc=0,scale=1)\n",
    "print('cutoff is 2 sigma')\n",
    "for i in sigma1:\n",
    "    if i >= cutoff:\n",
    "        trueT_bad += 1\n",
    "    else:\n",
    "        trueT_good += 1\n",
    "print('True T predicted True:', trueT_good, '\\nTrue T predicted Bad:', trueT_bad, '\\nSum:', trueT_good+trueT_bad)\n",
    "P2 = 2*stats.norm.cdf(-bad,scale = 0.4)\n",
    "P2 = 1-P2\n",
    "sigma2 = stats.norm.ppf(P2,loc=0,scale=1)\n",
    "for i in sigma2:\n",
    "    if i >= cutoff:\n",
    "        badT_bad += 1\n",
    "    else:\n",
    "        badT_good += 1\n",
    "print()\n",
    "print('Bad T predicted True', badT_good,'\\nBad T predicted Bad', badT_bad,'\\nSum', badT_good+badT_bad)\n",
    "\n",
    "cutoff = 2.5\n",
    "trueT_good = 0\n",
    "trueT_bad = 0\n",
    "badT_good = 0\n",
    "badT_bad = 0\n",
    "print()\n",
    "print('cutoff is 2.5 sigma')\n",
    "for i in sigma1:\n",
    "    if i >= cutoff:\n",
    "        trueT_bad += 1\n",
    "    else:\n",
    "        trueT_good += 1\n",
    "print('True T predicted True:', trueT_good, '\\nTrue T predicted Bad:', trueT_bad, '\\nSum:', trueT_good+trueT_bad)\n",
    "\n",
    "for i in sigma2:\n",
    "    if i >= cutoff:\n",
    "        badT_bad += 1\n",
    "    else:\n",
    "        badT_good += 1\n",
    "print()\n",
    "print('Bad T predicted True', badT_good,'\\nBad T predicted Bad', badT_bad,'\\nSum', badT_good+badT_bad)\n",
    "\n",
    "cutoff = 3.5\n",
    "trueT_good = 0\n",
    "trueT_bad = 0\n",
    "badT_good = 0\n",
    "badT_bad = 0\n",
    "print()\n",
    "print('cutoff is 3.5 sigma')\n",
    "for i in sigma1:\n",
    "    if i >= cutoff:\n",
    "        trueT_bad += 1\n",
    "    else:\n",
    "        trueT_good += 1\n",
    "print('True T predicted True:', trueT_good, '\\nTrue T predicted Bad:', trueT_bad, '\\nSum:', trueT_good+trueT_bad)\n",
    "\n",
    "for i in sigma2:\n",
    "    if i >= cutoff:\n",
    "        badT_bad += 1\n",
    "    else:\n",
    "        badT_good += 1\n",
    "print()\n",
    "print('Bad T predicted True', badT_good,'\\nBad T predicted Bad', badT_bad,'\\nSum', badT_good+badT_bad)\n",
    "\n",
    "cutoff = 4\n",
    "trueT_good = 0\n",
    "trueT_bad = 0\n",
    "badT_good = 0\n",
    "badT_bad = 0\n",
    "print()\n",
    "print('cutoff is 4 sigma')\n",
    "for i in sigma1:\n",
    "    if i >= cutoff:\n",
    "        trueT_bad += 1\n",
    "    else:\n",
    "        trueT_good += 1\n",
    "print('True T predicted True:', trueT_good, '\\nTrue T predicted Bad:', trueT_bad, '\\nSum:', trueT_good+trueT_bad)\n",
    "\n",
    "for i in sigma2:\n",
    "    if i >= cutoff:\n",
    "        badT_bad += 1\n",
    "    else:\n",
    "        badT_good += 1\n",
    "print()\n",
    "print('Bad T predicted True', badT_good,'\\nBad T predicted Bad', badT_bad,'\\nSum', badT_good+badT_bad)"
   ]
  },
  {
   "cell_type": "markdown",
   "metadata": {},
   "source": [
    "Truth Table with Threshold at $2\\sigma$:\n",
    "\n",
    "|                 | True T | Bad T |\n",
    "|-----------------|--------|-------|\n",
    "| Predicted True: | 97,711 |     1 |\n",
    "| Predicted Bad:  |   2289 |     7 |\n",
    "\n",
    "Truth Table with Threshold at $2.5\\sigma$:\n",
    "\n",
    "|                 | True T | Bad T |\n",
    "|-----------------|--------|-------|\n",
    "| Predicted True: | 99,370 |     1 |\n",
    "| Predicted Bad:  |    630 |     7 |\n",
    "\n",
    "Truth Table with Threshold at $3.5\\sigma$:\n",
    "\n",
    "|                 | True T | Bad T |\n",
    "|-----------------|--------|-------|\n",
    "| Predicted True: | 99,980 |     1 |\n",
    "| Predicted Bad:  |     20 |     7 |\n",
    "\n",
    "Truth Table with Threshold at $4\\sigma$:\n",
    "\n",
    "|                 | True T | Bad T |\n",
    "|-----------------|--------|-------|\n",
    "| Predicted True: | 100,000|     1 |\n",
    "| Predicted Bad:  |       0|     7 |\n",
    "\n",
    "The trials above show how the truth tables changed as the $\\sigma$ threshold changed. As the threshold increased, the number of pieces of good data that needed to be thrown out decreased. At a threshold of $4\\sigma$ the number of good data points thrown out was reduced to zero while the performance in classifying bad data pieces did not change.\n",
    "\n",
    "This quantity is predictable, the probability that corresponds to a $2\\sigma$ measurement or a $4\\sigma$ measurement is known, so multiplying that probability by the 100,000 data points would give the number of data points you would expect to find outside of the threshold. For example there is a 2.28% chance of the standard normal giving a value $2\\sigma$ or more greater than the mean. This probability predicts 2,280 of 100,000 events to be misclassified and my algorithm misclassified 2289. For a measurement of $3\\sigma$ or more greater than the mean there is a probability of 0.13% giving 130 out of 100,000 measurements misclassified, and my algorithm misclassified 110."
   ]
  },
  {
   "cell_type": "markdown",
   "metadata": {},
   "source": [
    "##### **C)**  Are there mistakes of commission (bad data getting in)? If yes, are they avoidable and how do they depend on your statistical threshold?\n",
    "\n",
    "There is 1 common mistake that makes it through the threshold in all of the tests done so far. This is the value of 12.7."
   ]
  },
  {
   "cell_type": "code",
   "execution_count": 68,
   "metadata": {},
   "outputs": [
    {
     "name": "stdout",
     "output_type": "stream",
     "text": [
      "1.404276170241102\n"
     ]
    }
   ],
   "source": [
    "P = 2*stats.norm.cdf(-0.7,scale = 0.4)\n",
    "P = 1-P\n",
    "sigma = stats.norm.ppf(P,loc=0,scale=1)\n",
    "print(sigma)"
   ]
  },
  {
   "cell_type": "markdown",
   "metadata": {},
   "source": [
    "In order to avoid this mistake, the threshold would need to be set below $1.404\\sigma$"
   ]
  },
  {
   "cell_type": "code",
   "execution_count": 69,
   "metadata": {},
   "outputs": [
    {
     "name": "stdout",
     "output_type": "stream",
     "text": [
      "True T predicted True: 91979 \n",
      "True T predicted Bad: 8021 \n",
      "Sum: 100000\n",
      "\n",
      "Bad T predicted True 0 \n",
      "Bad T predicted Bad 8 \n",
      "Sum 8\n"
     ]
    }
   ],
   "source": [
    "#Maintaining the Same Seed\n",
    "np.random.seed(123456)\n",
    "\n",
    "d = stats.norm.rvs(loc = 12., scale = 0.4, size = 100000)\n",
    "bad = np.array([10., 10.3, 2.1, 0., 0., 15.6, 22.3, 12.7])\n",
    "\n",
    "#Initializing Counts for Truth Table\n",
    "trueT_good = 0\n",
    "trueT_bad = 0\n",
    "badT_good = 0\n",
    "badT_bad = 0\n",
    "\n",
    "cutoff = 1.4\n",
    "# modifying for absolute delta from mean\n",
    "d = abs(d-12)\n",
    "bad = abs(bad-12)\n",
    "P1 = 2*stats.norm.cdf(-d,scale = 0.4)\n",
    "P1 = 1-P1\n",
    "sigma1 = stats.norm.ppf(P1,loc=0,scale=1)\n",
    "for i in sigma1:\n",
    "    if i >= cutoff:\n",
    "        trueT_bad += 1\n",
    "    else:\n",
    "        trueT_good += 1\n",
    "print('True T predicted True:', trueT_good, '\\nTrue T predicted Bad:', trueT_bad, '\\nSum:', trueT_good+trueT_bad)\n",
    "P2 = 2*stats.norm.cdf(-bad,scale = 0.4)\n",
    "P2 = 1-P2\n",
    "sigma2 = stats.norm.ppf(P2,loc=0,scale=1)\n",
    "for i in sigma2:\n",
    "    if i >= cutoff:\n",
    "        badT_bad += 1\n",
    "    else:\n",
    "        badT_good += 1\n",
    "print()\n",
    "print('Bad T predicted True', badT_good,'\\nBad T predicted Bad', badT_bad,'\\nSum', badT_good+badT_bad)"
   ]
  },
  {
   "cell_type": "markdown",
   "metadata": {},
   "source": [
    "With the threshold set at $1.4\\sigma$ there were no pieces of bad data used, but there were 8021 more pieces of good data thrown away in order to remove that 1 piece of data. with over 90,000 pieces of good data remaining, this may be a worthy pursuit if the data at a temperature of 12.7 is verified as being at a temperature unfit to perform the experiment at."
   ]
  },
  {
   "cell_type": "markdown",
   "metadata": {},
   "source": [
    "#### **Problem 2**\n",
    "\n",
    "When looking for asteroids in consecutive images, the stars in the background don't perfectly allign due to atmospheric and instrumental effects even after factoring in the earth rotation, and the starts normal movements. Since we are looking at an image this results in a 2 dimentional distribution, for this example we are assuming a 2D Gaussian with a RMS of 1 arcsecond."
   ]
  },
  {
   "cell_type": "code",
   "execution_count": 78,
   "metadata": {},
   "outputs": [
    {
     "data": {
      "image/png": "[encoded data removed]",
      "text/plain": [
       "<Figure size 1440x1080 with 2 Axes>"
      ]
     },
     "metadata": {
      "needs_background": "light"
     },
     "output_type": "display_data"
    }
   ],
   "source": [
    "np.random.seed(123456)\n",
    "a = np.vstack((stats.norm.rvs( scale = 1, size = 100000), stats.norm.rvs( scale = 1, size = 100000)))\n",
    "a.shape\n",
    "fig, ax = plt.subplots(1, 1)\n",
    "h = ax.hist2d(a[0,:],a[1,:],bins=100, density=True);\n",
    "ax.set_aspect('equal', 'box')\n",
    "plt.xlim([-3 , 3])\n",
    "plt.ylim([-3 , 3])\n",
    "plt.title(\"2D Histogram of positional uncertainty\", fontsize = 24)\n",
    "plt.ylabel(\"$\\Delta$y arcseconds\", fontsize = 18)\n",
    "plt.xlabel(\"$\\Delta$x arcseconds\", fontsize = 18)\n",
    "plt.colorbar(h[3], ax=ax)\n",
    "plt.show()"
   ]
  },
  {
   "cell_type": "markdown",
   "metadata": {},
   "source": [
    "When looking for real movement of an asteroid, we want to get a $5\\sigma$ measurement of displacement. What is that distance in arcseconds?\n",
    "\n",
    "1. What is the question in words?\n",
    "\n",
    "What is the magnitude of the distance vector corresponding to two independently generated Gaussian distributed random variables that corresponds to a $5\\sigma$ measurement?\n",
    "\n",
    "2. What is the question in math?\n",
    "\n",
    "The distribution of the magnitude of a vector composed of two independently generated Gaussian distributed random variables with the same parameters is a Rayleigh distribution as proved in homework 3. The pdf of a Rayleigh distribution is given below:\n",
    "\n",
    "$$p(x) = \\frac{x}{\\sigma^2}e^{-\\frac{x^2}{2\\sigma^2}}$$\n",
    "\n",
    "In this example, sigma is 1 arcsecond, and the probability is given by the standard normal distribution.\n",
    "\n",
    "$$5\\sigma = \\int_{a}^{\\infty}xe^{-\\frac{x^2}{2}} = -e^{-\\frac{x^2}{2}}\\bigg|_{a}^{\\infty} = 0 - ^-e^{-\\frac{a^2}{2}}$$\n",
    "\n",
    "$$\\sqrt{-2\\ln{(5\\sigma)}} = a$$\n",
    "3. What distance in arcseconds represents a 5 sigma detection of motion?\n"
   ]
  },
  {
   "cell_type": "code",
   "execution_count": 92,
   "metadata": {},
   "outputs": [
    {
     "name": "stdout",
     "output_type": "stream",
     "text": [
      "a = 5.489\n",
      "ln(5 sigma)= -15.065\n"
     ]
    }
   ],
   "source": [
    "sig = stats.norm.cdf(5)\n",
    "a = stats.rayleigh.ppf(sig)\n",
    "print('a =',np.round(a,3))\n",
    "print('ln(5 sigma)=',np.round(np.log(1-sig),4))"
   ]
  },
  {
   "cell_type": "markdown",
   "metadata": {},
   "source": [
    "The answer found numerically above was a distance of 5.489 arcseconds. In order to use the formula found above I also printed the $\\ln{(5\\sigma)}$ value.\n",
    "\n",
    "$$\\sqrt{-2*(-15.065)} = 4.489$$"
   ]
  }
 ],
 "metadata": {
  "kernelspec": {
   "display_name": "Python 3",
   "language": "python",
   "name": "python3"
  },
  "language_info": {
   "codemirror_mode": {
    "name": "ipython",
    "version": 3
   },
   "file_extension": ".py",
   "mimetype": "text/x-python",
   "name": "python",
   "nbconvert_exporter": "python",
   "pygments_lexer": "ipython3",
   "version": "3.7.4"
  }
 },
 "nbformat": 4,
 "nbformat_minor": 4
}
